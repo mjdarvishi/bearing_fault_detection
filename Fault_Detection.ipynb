{
 "cells": [
  {
   "cell_type": "code",
   "execution_count": 1,
   "metadata": {},
   "outputs": [
    {
     "name": "stderr",
     "output_type": "stream",
     "text": [
      "c:\\Users\\Utente\\AppData\\Local\\Programs\\Python\\Python311\\Lib\\site-packages\\tqdm\\auto.py:21: TqdmWarning: IProgress not found. Please update jupyter and ipywidgets. See https://ipywidgets.readthedocs.io/en/stable/user_install.html\n",
      "  from .autonotebook import tqdm as notebook_tqdm\n"
     ]
    }
   ],
   "source": [
    "from pathlib import Path\n",
    "from data_utils import download,get_df_all\n",
    "from data_utils import save_in_data_set_to_scv\n",
    "from data_urls import URLS\n",
    "from sklearn.model_selection import train_test_split\n"
   ]
  },
  {
   "cell_type": "markdown",
   "metadata": {},
   "source": [
    "Init configuration"
   ]
  },
  {
   "cell_type": "code",
   "execution_count": 2,
   "metadata": {},
   "outputs": [],
   "source": [
    "working_dir = Path('.')\n",
    "DATA_PATH = Path(\"./Data\")\n",
    "DE_12_path = DATA_PATH / '12k_DE'\n",
    "DE_48_path = DATA_PATH / '48k_DE'\n",
    "FE_path = DATA_PATH / '12k_FE'"
   ]
  },
  {
   "cell_type": "markdown",
   "metadata": {},
   "source": [
    "Download Data set files and convert .mat files to csv foramt"
   ]
  },
  {
   "cell_type": "code",
   "execution_count": 3,
   "metadata": {},
   "outputs": [
    {
     "name": "stdout",
     "output_type": "stream",
     "text": [
      "csv file is already exist\n"
     ]
    }
   ],
   "source": [
    "#  download and convert 12k_DE data\n",
    "for name, url in URLS[\"12k_DE\"].items():\n",
    "    download(url, DE_12_path, name, suffix=\".mat\")\n",
    "    \n",
    "# DE_12 data set\n",
    "DE_12_df = get_df_all(FE_path, segment_length=500)\n",
    "features = DE_12_df.columns[2:]\n",
    "target = 'label'\n",
    "save_in_data_set_to_scv(FE_path,'Data/12k_FE.csv')\n"
   ]
  },
  {
   "cell_type": "code",
   "execution_count": 4,
   "metadata": {},
   "outputs": [
    {
     "name": "stdout",
     "output_type": "stream",
     "text": [
      "csv file is already exist\n"
     ]
    }
   ],
   "source": [
    "#  download and convert 12k_FE data\n",
    "for name, url in URLS[\"12k_FE\"].items():\n",
    "    download(url, FE_path, name, suffix=\".mat\")\n",
    "    \n",
    "# 12k_FE data set\n",
    "FE_df = get_df_all(FE_path, segment_length=500)\n",
    "\n",
    "save_in_data_set_to_scv(FE_df,'Data/12k_FE.csv')\n"
   ]
  },
  {
   "cell_type": "markdown",
   "metadata": {},
   "source": [
    "Load data from csv file"
   ]
  },
  {
   "cell_type": "code",
   "execution_count": 9,
   "metadata": {},
   "outputs": [],
   "source": [
    "import pandas as pd\n",
    "\n",
    "data_set_path_file='Data/12k_FE.csv'\n",
    "# Read the DataFrame from the CSV file\n",
    "df_all = pd.read_csv(data_set_path_file)\n"
   ]
  },
  {
   "cell_type": "markdown",
   "metadata": {},
   "source": [
    "show sample of data set and its shap"
   ]
  },
  {
   "cell_type": "code",
   "execution_count": 10,
   "metadata": {},
   "outputs": [
    {
     "data": {
      "text/html": [
       "<div>\n",
       "<style scoped>\n",
       "    .dataframe tbody tr th:only-of-type {\n",
       "        vertical-align: middle;\n",
       "    }\n",
       "\n",
       "    .dataframe tbody tr th {\n",
       "        vertical-align: top;\n",
       "    }\n",
       "\n",
       "    .dataframe thead th {\n",
       "        text-align: right;\n",
       "    }\n",
       "</style>\n",
       "<table border=\"1\" class=\"dataframe\">\n",
       "  <thead>\n",
       "    <tr style=\"text-align: right;\">\n",
       "      <th></th>\n",
       "      <th>label</th>\n",
       "      <th>filename</th>\n",
       "      <th>0</th>\n",
       "      <th>1</th>\n",
       "      <th>2</th>\n",
       "      <th>3</th>\n",
       "      <th>4</th>\n",
       "      <th>5</th>\n",
       "      <th>6</th>\n",
       "      <th>7</th>\n",
       "      <th>...</th>\n",
       "      <th>490</th>\n",
       "      <th>491</th>\n",
       "      <th>492</th>\n",
       "      <th>493</th>\n",
       "      <th>494</th>\n",
       "      <th>495</th>\n",
       "      <th>496</th>\n",
       "      <th>497</th>\n",
       "      <th>498</th>\n",
       "      <th>499</th>\n",
       "    </tr>\n",
       "  </thead>\n",
       "  <tbody>\n",
       "    <tr>\n",
       "      <th>7819</th>\n",
       "      <td>3</td>\n",
       "      <td>OR007@6_0.mat</td>\n",
       "      <td>-0.102009</td>\n",
       "      <td>0.583142</td>\n",
       "      <td>0.111755</td>\n",
       "      <td>-0.397479</td>\n",
       "      <td>0.162110</td>\n",
       "      <td>0.512483</td>\n",
       "      <td>-0.020304</td>\n",
       "      <td>-0.459042</td>\n",
       "      <td>...</td>\n",
       "      <td>0.180465</td>\n",
       "      <td>0.074883</td>\n",
       "      <td>-0.017218</td>\n",
       "      <td>0.037847</td>\n",
       "      <td>0.057502</td>\n",
       "      <td>-0.062375</td>\n",
       "      <td>-0.127674</td>\n",
       "      <td>-0.218963</td>\n",
       "      <td>-0.219937</td>\n",
       "      <td>0.027452</td>\n",
       "    </tr>\n",
       "    <tr>\n",
       "      <th>6050</th>\n",
       "      <td>3</td>\n",
       "      <td>OR007@12_0.mat</td>\n",
       "      <td>-0.090738</td>\n",
       "      <td>0.063700</td>\n",
       "      <td>0.200842</td>\n",
       "      <td>0.019731</td>\n",
       "      <td>-0.155169</td>\n",
       "      <td>0.042182</td>\n",
       "      <td>0.174412</td>\n",
       "      <td>-0.090617</td>\n",
       "      <td>...</td>\n",
       "      <td>0.059843</td>\n",
       "      <td>-0.045471</td>\n",
       "      <td>0.025740</td>\n",
       "      <td>0.022817</td>\n",
       "      <td>-0.027323</td>\n",
       "      <td>-0.003045</td>\n",
       "      <td>-0.071170</td>\n",
       "      <td>-0.048475</td>\n",
       "      <td>0.020787</td>\n",
       "      <td>-0.053590</td>\n",
       "    </tr>\n",
       "    <tr>\n",
       "      <th>185</th>\n",
       "      <td>1</td>\n",
       "      <td>B007_0.mat</td>\n",
       "      <td>0.222699</td>\n",
       "      <td>0.045319</td>\n",
       "      <td>-0.099248</td>\n",
       "      <td>0.138395</td>\n",
       "      <td>0.170557</td>\n",
       "      <td>-0.008934</td>\n",
       "      <td>-0.086415</td>\n",
       "      <td>0.103146</td>\n",
       "      <td>...</td>\n",
       "      <td>0.041583</td>\n",
       "      <td>0.065299</td>\n",
       "      <td>0.112730</td>\n",
       "      <td>0.085441</td>\n",
       "      <td>0.090476</td>\n",
       "      <td>0.034274</td>\n",
       "      <td>0.055066</td>\n",
       "      <td>0.077644</td>\n",
       "      <td>-0.014294</td>\n",
       "      <td>0.025827</td>\n",
       "    </tr>\n",
       "    <tr>\n",
       "      <th>2195</th>\n",
       "      <td>1</td>\n",
       "      <td>B021_1.mat</td>\n",
       "      <td>-0.055634</td>\n",
       "      <td>0.126293</td>\n",
       "      <td>0.070253</td>\n",
       "      <td>-0.110862</td>\n",
       "      <td>-0.090558</td>\n",
       "      <td>0.056040</td>\n",
       "      <td>0.134009</td>\n",
       "      <td>-0.054416</td>\n",
       "      <td>...</td>\n",
       "      <td>0.063350</td>\n",
       "      <td>-0.376037</td>\n",
       "      <td>-0.224567</td>\n",
       "      <td>0.250962</td>\n",
       "      <td>0.220912</td>\n",
       "      <td>-0.132791</td>\n",
       "      <td>-0.093806</td>\n",
       "      <td>0.310657</td>\n",
       "      <td>0.314718</td>\n",
       "      <td>-0.020304</td>\n",
       "    </tr>\n",
       "    <tr>\n",
       "      <th>4696</th>\n",
       "      <td>2</td>\n",
       "      <td>IR014_3.mat</td>\n",
       "      <td>-0.019167</td>\n",
       "      <td>-0.230171</td>\n",
       "      <td>-0.084304</td>\n",
       "      <td>-0.021441</td>\n",
       "      <td>-0.099248</td>\n",
       "      <td>-0.052142</td>\n",
       "      <td>0.011208</td>\n",
       "      <td>-0.061076</td>\n",
       "      <td>...</td>\n",
       "      <td>0.006660</td>\n",
       "      <td>0.174455</td>\n",
       "      <td>0.034761</td>\n",
       "      <td>-0.087877</td>\n",
       "      <td>0.045319</td>\n",
       "      <td>0.024203</td>\n",
       "      <td>-0.052304</td>\n",
       "      <td>-0.148953</td>\n",
       "      <td>-0.056203</td>\n",
       "      <td>0.106070</td>\n",
       "    </tr>\n",
       "  </tbody>\n",
       "</table>\n",
       "<p>5 rows × 502 columns</p>\n",
       "</div>"
      ],
      "text/plain": [
       "      label        filename         0         1         2         3         4  \\\n",
       "7819      3   OR007@6_0.mat -0.102009  0.583142  0.111755 -0.397479  0.162110   \n",
       "6050      3  OR007@12_0.mat -0.090738  0.063700  0.200842  0.019731 -0.155169   \n",
       "185       1      B007_0.mat  0.222699  0.045319 -0.099248  0.138395  0.170557   \n",
       "2195      1      B021_1.mat -0.055634  0.126293  0.070253 -0.110862 -0.090558   \n",
       "4696      2     IR014_3.mat -0.019167 -0.230171 -0.084304 -0.021441 -0.099248   \n",
       "\n",
       "             5         6         7  ...       490       491       492  \\\n",
       "7819  0.512483 -0.020304 -0.459042  ...  0.180465  0.074883 -0.017218   \n",
       "6050  0.042182  0.174412 -0.090617  ...  0.059843 -0.045471  0.025740   \n",
       "185  -0.008934 -0.086415  0.103146  ...  0.041583  0.065299  0.112730   \n",
       "2195  0.056040  0.134009 -0.054416  ...  0.063350 -0.376037 -0.224567   \n",
       "4696 -0.052142  0.011208 -0.061076  ...  0.006660  0.174455  0.034761   \n",
       "\n",
       "           493       494       495       496       497       498       499  \n",
       "7819  0.037847  0.057502 -0.062375 -0.127674 -0.218963 -0.219937  0.027452  \n",
       "6050  0.022817 -0.027323 -0.003045 -0.071170 -0.048475  0.020787 -0.053590  \n",
       "185   0.085441  0.090476  0.034274  0.055066  0.077644 -0.014294  0.025827  \n",
       "2195  0.250962  0.220912 -0.132791 -0.093806  0.310657  0.314718 -0.020304  \n",
       "4696 -0.087877  0.045319  0.024203 -0.052304 -0.148953 -0.056203  0.106070  \n",
       "\n",
       "[5 rows x 502 columns]"
      ]
     },
     "execution_count": 10,
     "metadata": {},
     "output_type": "execute_result"
    }
   ],
   "source": [
    "df_all.sample(5)\n"
   ]
  },
  {
   "cell_type": "code",
   "execution_count": 11,
   "metadata": {},
   "outputs": [
    {
     "data": {
      "text/plain": [
       "(10894, 502)"
      ]
     },
     "execution_count": 11,
     "metadata": {},
     "output_type": "execute_result"
    }
   ],
   "source": [
    "df_all.shape"
   ]
  },
  {
   "cell_type": "markdown",
   "metadata": {},
   "source": [
    "Installing timefm in colab"
   ]
  },
  {
   "cell_type": "code",
   "execution_count": 21,
   "metadata": {},
   "outputs": [
    {
     "name": "stdout",
     "output_type": "stream",
     "text": [
      "^C\n"
     ]
    },
    {
     "ename": "ModuleNotFoundError",
     "evalue": "No module named 'condacolab'",
     "output_type": "error",
     "traceback": [
      "\u001b[1;31m---------------------------------------------------------------------------\u001b[0m",
      "\u001b[1;31mModuleNotFoundError\u001b[0m                       Traceback (most recent call last)",
      "Cell \u001b[1;32mIn[21], line 2\u001b[0m\n\u001b[0;32m      1\u001b[0m get_ipython()\u001b[38;5;241m.\u001b[39msystem(\u001b[38;5;124m'\u001b[39m\u001b[38;5;124mpip install -q condacolab\u001b[39m\u001b[38;5;124m'\u001b[39m)\n\u001b[1;32m----> 2\u001b[0m \u001b[38;5;28;01mimport\u001b[39;00m \u001b[38;5;21;01mcondacolab\u001b[39;00m\n\u001b[0;32m      3\u001b[0m condacolab\u001b[38;5;241m.\u001b[39minstall()\n",
      "\u001b[1;31mModuleNotFoundError\u001b[0m: No module named 'condacolab'"
     ]
    },
    {
     "name": "stderr",
     "output_type": "stream",
     "text": [
      "\n",
      "[notice] A new release of pip is available: 24.0 -> 24.1\n",
      "[notice] To update, run: python.exe -m pip install --upgrade pip\n"
     ]
    }
   ],
   "source": [
    "!pip install -q condacolab\n",
    "import condacolab\n",
    "condacolab.install()\n",
    "\n",
    "!git clone https://github.com/google-research/timesfm.git\n",
    "%cd timesfm\n",
    "!conda env update -n base -f environment.yml\n",
    "\n",
    "!pip install -e .\n"
   ]
  },
  {
   "cell_type": "markdown",
   "metadata": {},
   "source": [
    "Splite the datat to test and also train"
   ]
  },
  {
   "cell_type": "code",
   "execution_count": null,
   "metadata": {},
   "outputs": [],
   "source": [
    "import timesfm\n"
   ]
  },
  {
   "cell_type": "code",
   "execution_count": 18,
   "metadata": {},
   "outputs": [],
   "source": [
    "# Split the data into train and validation set\n",
    "random_seed=45\n",
    "X_train, X_valid, y_train, y_valid = train_test_split(df_all[features], \n",
    "                                                      df_all[target], \n",
    "                                                      test_size=0.20, random_state=random_seed, shuffle=True\n",
    "                                                     )"
   ]
  },
  {
   "cell_type": "markdown",
   "metadata": {},
   "source": [
    "Install TimesFM "
   ]
  }
 ],
 "metadata": {
  "kernelspec": {
   "display_name": "Python 3",
   "language": "python",
   "name": "python3"
  },
  "language_info": {
   "codemirror_mode": {
    "name": "ipython",
    "version": 3
   },
   "file_extension": ".py",
   "mimetype": "text/x-python",
   "name": "python",
   "nbconvert_exporter": "python",
   "pygments_lexer": "ipython3",
   "version": "3.11.8"
  }
 },
 "nbformat": 4,
 "nbformat_minor": 2
}
