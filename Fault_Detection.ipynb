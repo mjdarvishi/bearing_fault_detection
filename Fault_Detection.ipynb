{
 "cells": [
  {
   "cell_type": "code",
   "execution_count": 1,
   "metadata": {},
   "outputs": [
    {
     "name": "stderr",
     "output_type": "stream",
     "text": [
      "c:\\Users\\Utente\\AppData\\Local\\Programs\\Python\\Python311\\Lib\\site-packages\\tqdm\\auto.py:21: TqdmWarning: IProgress not found. Please update jupyter and ipywidgets. See https://ipywidgets.readthedocs.io/en/stable/user_install.html\n",
      "  from .autonotebook import tqdm as notebook_tqdm\n"
     ]
    }
   ],
   "source": [
    "from pathlib import Path\n",
    "from data_utils import download,get_df_all\n",
    "from data_utils import save_in_data_set_to_scv\n",
    "from data_urls import URLS\n",
    "from sklearn.model_selection import train_test_split\n"
   ]
  },
  {
   "cell_type": "markdown",
   "metadata": {},
   "source": [
    "Init configuration"
   ]
  },
  {
   "cell_type": "code",
   "execution_count": 2,
   "metadata": {},
   "outputs": [],
   "source": [
    "working_dir = Path('.')\n",
    "DATA_PATH = Path(\"./Data\")"
   ]
  },
  {
   "cell_type": "markdown",
   "metadata": {},
   "source": [
    "Download data set"
   ]
  },
  {
   "cell_type": "code",
   "execution_count": 3,
   "metadata": {},
   "outputs": [
    {
     "name": "stdout",
     "output_type": "stream",
     "text": [
      "{'12k_DE': {'Normal_0': 'https://engineering.case.edu/sites/default/files/97.mat', 'Normal_1': 'https://engineering.case.edu/sites/default/files/98.mat', 'Normal_2': 'https://engineering.case.edu/sites/default/files/99.mat', 'Normal_3': 'https://engineering.case.edu/sites/default/files/100.mat', 'IR007_0': 'https://engineering.case.edu/sites/default/files/105.mat', 'IR007_1': 'https://engineering.case.edu/sites/default/files/106.mat', 'IR007_2': 'https://engineering.case.edu/sites/default/files/107.mat', 'IR007_3': 'https://engineering.case.edu/sites/default/files/108.mat', 'IR014_0': 'https://engineering.case.edu/sites/default/files/169.mat', 'IR014_1': 'https://engineering.case.edu/sites/default/files/170.mat', 'IR014_2': 'https://engineering.case.edu/sites/default/files/171.mat', 'IR014_3': 'https://engineering.case.edu/sites/default/files/172.mat', 'IR021_0': 'https://engineering.case.edu/sites/default/files/209.mat', 'IR021_1': 'https://engineering.case.edu/sites/default/files/210.mat', 'IR021_2': 'https://engineering.case.edu/sites/default/files/211.mat', 'IR021_3': 'https://engineering.case.edu/sites/default/files/212.mat', 'IR028_0': 'https://engineering.case.edu/sites/default/files/3001.mat', 'IR028_1': 'https://engineering.case.edu/sites/default/files/3002.mat', 'IR028_2': 'https://engineering.case.edu/sites/default/files/3003.mat', 'IR028_3': 'https://engineering.case.edu/sites/default/files/3004.mat', 'B007_0': 'https://engineering.case.edu/sites/default/files/118.mat', 'B007_1': 'https://engineering.case.edu/sites/default/files/119.mat', 'B007_2': 'https://engineering.case.edu/sites/default/files/120.mat', 'B007_3': 'https://engineering.case.edu/sites/default/files/121.mat', 'B014_0': 'https://engineering.case.edu/sites/default/files/185.mat', 'B014_1': 'https://engineering.case.edu/sites/default/files/186.mat', 'B014_2': 'https://engineering.case.edu/sites/default/files/187.mat', 'B014_3': 'https://engineering.case.edu/sites/default/files/188.mat', 'B021_0': 'https://engineering.case.edu/sites/default/files/222.mat', 'B021_1': 'https://engineering.case.edu/sites/default/files/223.mat', 'B021_2': 'https://engineering.case.edu/sites/default/files/224.mat', 'B021_3': 'https://engineering.case.edu/sites/default/files/225.mat', 'B028_0': 'https://engineering.case.edu/sites/default/files/3005.mat', 'B028_1': 'https://engineering.case.edu/sites/default/files/3006.mat', 'B028_2': 'https://engineering.case.edu/sites/default/files/3007.mat', 'B028_3': 'https://engineering.case.edu/sites/default/files/3008.mat', 'OR007@6_0': 'https://engineering.case.edu/sites/default/files/130.mat', 'OR007@6_1': 'https://engineering.case.edu/sites/default/files/131.mat', 'OR007@6_2': 'https://engineering.case.edu/sites/default/files/132.mat', 'OR007@6_3': 'https://engineering.case.edu/sites/default/files/133.mat', 'OR014@6_0': 'https://engineering.case.edu/sites/default/files/197.mat', 'OR014@6_1': 'https://engineering.case.edu/sites/default/files/198.mat', 'OR014@6_2': 'https://engineering.case.edu/sites/default/files/199.mat', 'OR014@6_3': 'https://engineering.case.edu/sites/default/files/200.mat', 'OR021@6_0': 'https://engineering.case.edu/sites/default/files/234.mat', 'OR021@6_1': 'https://engineering.case.edu/sites/default/files/235.mat', 'OR021@6_2': 'https://engineering.case.edu/sites/default/files/236.mat', 'OR021@6_3': 'https://engineering.case.edu/sites/default/files/237.mat', 'OR007@3_0': 'https://engineering.case.edu/sites/default/files/144.mat', 'OR007@3_1': 'https://engineering.case.edu/sites/default/files/145.mat', 'OR007@3_2': 'https://engineering.case.edu/sites/default/files/146.mat', 'OR007@3_3': 'https://engineering.case.edu/sites/default/files/147.mat', 'OR021@3_0': 'https://engineering.case.edu/sites/default/files/246.mat', 'OR021@3_1': 'https://engineering.case.edu/sites/default/files/247.mat', 'OR021@3_2': 'https://engineering.case.edu/sites/default/files/248.mat', 'OR021@3_3': 'https://engineering.case.edu/sites/default/files/249.mat', 'OR007@12_0': 'https://engineering.case.edu/sites/default/files/156.mat', 'OR007@12_1': 'https://engineering.case.edu/sites/default/files/158.mat', 'OR007@12_2': 'https://engineering.case.edu/sites/default/files/159.mat', 'OR007@12_3': 'https://engineering.case.edu/sites/default/files/160.mat', 'OR021@12_0': 'https://engineering.case.edu/sites/default/files/258.mat', 'OR021@12_1': 'https://engineering.case.edu/sites/default/files/259.mat', 'OR021@12_2': 'https://engineering.case.edu/sites/default/files/260.mat', 'OR021@12_3': 'https://engineering.case.edu/sites/default/files/261.mat'}, '48k_DE': {'IR007_0': 'https://engineering.case.edu/sites/default/files/109.mat', 'IR007_1': 'https://engineering.case.edu/sites/default/files/110.mat', 'IR007_2': 'https://engineering.case.edu/sites/default/files/111.mat', 'IR007_3': 'https://engineering.case.edu/sites/default/files/112.mat', 'IR014_0': 'https://engineering.case.edu/sites/default/files/174.mat', 'IR014_1': 'https://engineering.case.edu/sites/default/files/175.mat', 'IR014_2': 'https://engineering.case.edu/sites/default/files/176.mat', 'IR014_3': 'https://engineering.case.edu/sites/default/files/177.mat', 'IR021_0': 'https://engineering.case.edu/sites/default/files/213.mat', 'IR021_1': 'https://engineering.case.edu/sites/default/files/214.mat', 'IR021_2': 'https://engineering.case.edu/sites/default/files/215.mat', 'IR021_3': 'https://engineering.case.edu/sites/default/files/217.mat', 'B007_0': 'https://engineering.case.edu/sites/default/files/122.mat', 'B007_1': 'https://engineering.case.edu/sites/default/files/123.mat', 'B007_2': 'https://engineering.case.edu/sites/default/files/124.mat', 'B007_3': 'https://engineering.case.edu/sites/default/files/125.mat', 'B014_0': 'https://engineering.case.edu/sites/default/files/189.mat', 'B014_1': 'https://engineering.case.edu/sites/default/files/190.mat', 'B014_2': 'https://engineering.case.edu/sites/default/files/191.mat', 'B014_3': 'https://engineering.case.edu/sites/default/files/192.mat', 'B021_0': 'https://engineering.case.edu/sites/default/files/226.mat', 'B021_1': 'https://engineering.case.edu/sites/default/files/227.mat', 'B021_2': 'https://engineering.case.edu/sites/default/files/228.mat', 'B021_3': 'https://engineering.case.edu/sites/default/files/229.mat', 'OR007@6_0': 'https://engineering.case.edu/sites/default/files/135.mat', 'OR007@6_1': 'https://engineering.case.edu/sites/default/files/136.mat', 'OR007@6_2': 'https://engineering.case.edu/sites/default/files/137.mat', 'OR007@6_3': 'https://engineering.case.edu/sites/default/files/138.mat', 'OR014@6_0': 'https://engineering.case.edu/sites/default/files/201.mat', 'OR014@6_1': 'https://engineering.case.edu/sites/default/files/202.mat', 'OR014@6_2': 'https://engineering.case.edu/sites/default/files/203.mat', 'OR014@6_3': 'https://engineering.case.edu/sites/default/files/204.mat', 'OR021@6_0': 'https://engineering.case.edu/sites/default/files/238.mat', 'OR021@6_1': 'https://engineering.case.edu/sites/default/files/239.mat', 'OR021@6_2': 'https://engineering.case.edu/sites/default/files/240.mat', 'OR021@6_3': 'https://engineering.case.edu/sites/default/files/241.mat', 'OR007@3_0': 'https://engineering.case.edu/sites/default/files/148.mat', 'OR007@3_1': 'https://engineering.case.edu/sites/default/files/149.mat', 'OR007@3_2': 'https://engineering.case.edu/sites/default/files/150.mat', 'OR007@3_3': 'https://engineering.case.edu/sites/default/files/151.mat', 'OR021@3_0': 'https://engineering.case.edu/sites/default/files/250.mat', 'OR021@3_1': 'https://engineering.case.edu/sites/default/files/251.mat', 'OR021@3_2': 'https://engineering.case.edu/sites/default/files/252.mat', 'OR021@3_3': 'https://engineering.case.edu/sites/default/files/253.mat', 'OR007@12_0': 'https://engineering.case.edu/sites/default/files/161.mat', 'OR007@12_1': 'https://engineering.case.edu/sites/default/files/162.mat', 'OR007@12_2': 'https://engineering.case.edu/sites/default/files/163.mat', 'OR007@12_3': 'https://engineering.case.edu/sites/default/files/164.mat', 'OR021@12_0': 'https://engineering.case.edu/sites/default/files/262.mat', 'OR021@12_1': 'https://engineering.case.edu/sites/default/files/263.mat', 'OR021@12_2': 'https://engineering.case.edu/sites/default/files/264.mat', 'OR021@12_3': 'https://engineering.case.edu/sites/default/files/265.mat'}, '12k_FE': {'IR007_0': 'https://engineering.case.edu/sites/default/files/278.mat', 'IR007_1': 'https://engineering.case.edu/sites/default/files/279.mat', 'IR007_2': 'https://engineering.case.edu/sites/default/files/280.mat', 'IR007_3': 'https://engineering.case.edu/sites/default/files/281.mat', 'IR014_0': 'https://engineering.case.edu/sites/default/files/274.mat', 'IR014_1': 'https://engineering.case.edu/sites/default/files/275.mat', 'IR014_2': 'https://engineering.case.edu/sites/default/files/276.mat', 'IR014_3': 'https://engineering.case.edu/sites/default/files/277.mat', 'IR021_0': 'https://engineering.case.edu/sites/default/files/270.mat', 'IR021_1': 'https://engineering.case.edu/sites/default/files/271.mat', 'IR021_2': 'https://engineering.case.edu/sites/default/files/272.mat', 'IR021_3': 'https://engineering.case.edu/sites/default/files/273.mat', 'B007_0': 'https://engineering.case.edu/sites/default/files/282.mat', 'B007_1': 'https://engineering.case.edu/sites/default/files/283.mat', 'B007_2': 'https://engineering.case.edu/sites/default/files/284.mat', 'B007_3': 'https://engineering.case.edu/sites/default/files/285.mat', 'B014_0': 'https://engineering.case.edu/sites/default/files/286.mat', 'B014_1': 'https://engineering.case.edu/sites/default/files/287.mat', 'B014_2': 'https://engineering.case.edu/sites/default/files/288.mat', 'B014_3': 'https://engineering.case.edu/sites/default/files/289.mat', 'B021_0': 'https://engineering.case.edu/sites/default/files/290.mat', 'B021_1': 'https://engineering.case.edu/sites/default/files/291.mat', 'B021_2': 'https://engineering.case.edu/sites/default/files/292.mat', 'B021_3': 'https://engineering.case.edu/sites/default/files/293.mat', 'OR007@6_0': 'https://engineering.case.edu/sites/default/files/294.mat', 'OR007@6_1': 'https://engineering.case.edu/sites/default/files/295.mat', 'OR007@6_2': 'https://engineering.case.edu/sites/default/files/296.mat', 'OR007@6_3': 'https://engineering.case.edu/sites/default/files/297.mat', 'OR014@6_0': 'https://engineering.case.edu/sites/default/files/313.mat', 'OR021@6_0': 'https://engineering.case.edu/sites/default/files/315.mat', 'OR007@3_0': 'https://engineering.case.edu/sites/default/files/298.mat', 'OR007@3_1': 'https://engineering.case.edu/sites/default/files/299.mat', 'OR007@3_2': 'https://engineering.case.edu/sites/default/files/300.mat', 'OR007@3_3': 'https://engineering.case.edu/sites/default/files/301.mat', 'OR014@3_0': 'https://engineering.case.edu/sites/default/files/310.mat', 'OR014@3_1': 'https://engineering.case.edu/sites/default/files/309.mat', 'OR014@3_2': 'https://engineering.case.edu/sites/default/files/311.mat', 'OR014@3_3': 'https://engineering.case.edu/sites/default/files/312.mat', 'OR021@3_1': 'https://engineering.case.edu/sites/default/files/316.mat', 'OR021@3_2': 'https://engineering.case.edu/sites/default/files/317.mat', 'OR021@3_3': 'https://engineering.case.edu/sites/default/files/318.mat', 'OR007@12_0': 'https://engineering.case.edu/sites/default/files/302.mat', 'OR007@12_1': 'https://engineering.case.edu/sites/default/files/305.mat', 'OR007@12_2': 'https://engineering.case.edu/sites/default/files/306.mat', 'OR007@12_3': 'https://engineering.case.edu/sites/default/files/307.mat'}}\n",
      "Data set is already exist\n",
      "Data set is already exist\n",
      "Data set is already exist\n",
      "Data set is already exist\n",
      "Data set is already exist\n",
      "Data set is already exist\n",
      "Data set is already exist\n",
      "Data set is already exist\n",
      "Data set is already exist\n",
      "Data set is already exist\n",
      "Data set is already exist\n",
      "Data set is already exist\n",
      "Data set is already exist\n",
      "Data set is already exist\n",
      "Data set is already exist\n",
      "Data set is already exist\n",
      "Data set is already exist\n",
      "Data set is already exist\n",
      "Data set is already exist\n",
      "Data set is already exist\n",
      "Data set is already exist\n",
      "Data set is already exist\n",
      "Data set is already exist\n",
      "Data set is already exist\n",
      "Data set is already exist\n",
      "Data set is already exist\n",
      "Data set is already exist\n",
      "Data set is already exist\n",
      "Data set is already exist\n",
      "Data set is already exist\n",
      "Data set is already exist\n",
      "Data set is already exist\n",
      "Data set is already exist\n",
      "Data set is already exist\n",
      "Data set is already exist\n",
      "Data set is already exist\n",
      "Data set is already exist\n",
      "Data set is already exist\n",
      "Data set is already exist\n",
      "Data set is already exist\n",
      "Data set is already exist\n",
      "Data set is already exist\n",
      "Data set is already exist\n",
      "Data set is already exist\n",
      "Data set is already exist\n",
      "Data set is already exist\n",
      "Data set is already exist\n",
      "Data set is already exist\n",
      "Data set is already exist\n",
      "Data set is already exist\n",
      "Data set is already exist\n",
      "Data set is already exist\n",
      "Data set is already exist\n",
      "Data set is already exist\n",
      "Data set is already exist\n",
      "Data set is already exist\n",
      "Data set is already exist\n",
      "Data set is already exist\n",
      "Data set is already exist\n",
      "Data set is already exist\n",
      "Data set is already exist\n",
      "Data set is already exist\n",
      "Data set is already exist\n",
      "Data set is already exist\n",
      "Data set is already exist\n",
      "Data set is already exist\n",
      "Data set is already exist\n",
      "Data set is already exist\n",
      "Data set is already exist\n",
      "Data set is already exist\n",
      "Data set is already exist\n",
      "Data set is already exist\n",
      "Data set is already exist\n",
      "Data set is already exist\n",
      "Data set is already exist\n",
      "Data set is already exist\n",
      "Data set is already exist\n",
      "Data set is already exist\n",
      "Data set is already exist\n",
      "Data set is already exist\n",
      "Data set is already exist\n",
      "Data set is already exist\n",
      "Data set is already exist\n",
      "Data set is already exist\n",
      "Data set is already exist\n",
      "Data set is already exist\n",
      "Data set is already exist\n",
      "Data set is already exist\n",
      "Data set is already exist\n",
      "Data set is already exist\n",
      "Data set is already exist\n",
      "Data set is already exist\n",
      "Data set is already exist\n",
      "Data set is already exist\n",
      "Data set is already exist\n",
      "Data set is already exist\n",
      "Data set is already exist\n",
      "Data set is already exist\n",
      "Data set is already exist\n",
      "Data set is already exist\n",
      "Data set is already exist\n",
      "Data set is already exist\n",
      "Data set is already exist\n",
      "Data set is already exist\n",
      "Data set is already exist\n",
      "Data set is already exist\n",
      "Data set is already exist\n",
      "Data set is already exist\n",
      "Data set is already exist\n",
      "Data set is already exist\n",
      "Data set is already exist\n",
      "Data set is already exist\n",
      "Data set is already exist\n",
      "Data set is already exist\n",
      "Data set is already exist\n",
      "Data set is already exist\n",
      "Data set is already exist\n",
      "Data set is already exist\n",
      "Data set is already exist\n",
      "Data set is already exist\n",
      "Data set is already exist\n",
      "Data set is already exist\n",
      "Data set is already exist\n",
      "Data set is already exist\n",
      "Data set is already exist\n",
      "Data set is already exist\n",
      "Data set is already exist\n",
      "Data set is already exist\n",
      "Data set is already exist\n",
      "Data set is already exist\n",
      "Data set is already exist\n",
      "Data set is already exist\n",
      "Data set is already exist\n",
      "Data set is already exist\n",
      "Data set is already exist\n",
      "Data set is already exist\n",
      "Data set is already exist\n",
      "Data set is already exist\n",
      "Data set is already exist\n",
      "Data set is already exist\n",
      "Data set is already exist\n",
      "Data set is already exist\n",
      "Data set is already exist\n",
      "Data set is already exist\n",
      "Data set is already exist\n",
      "Data set is already exist\n",
      "Data set is already exist\n",
      "Data set is already exist\n",
      "Data set is already exist\n",
      "Data set is already exist\n",
      "Data set is already exist\n",
      "Data set is already exist\n",
      "Data set is already exist\n",
      "Data set is already exist\n",
      "Data set is already exist\n",
      "Data set is already exist\n",
      "Data set is already exist\n",
      "Data set is already exist\n",
      "Data set is already exist\n",
      "Data set is already exist\n",
      "Data set is already exist\n"
     ]
    }
   ],
   "source": [
    "# Uncomment this to download the 12k_DE data if needed\n",
    "print(URLS)\n",
    "for data_set in URLS.keys():\n",
    "    for name, url in URLS[data_set].items():\n",
    "        download(url,  DATA_PATH /data_set, name, suffix=\".mat\")"
   ]
  },
  {
   "cell_type": "markdown",
   "metadata": {},
   "source": [
    "Convert .mat files to csv foramt"
   ]
  },
  {
   "cell_type": "code",
   "execution_count": 7,
   "metadata": {},
   "outputs": [],
   "source": [
    "DE_12_path = DATA_PATH / '12k_DE'\n",
    "DE_48_path = DATA_PATH / '48k_DE'\n",
    "FE_path = DATA_PATH / '12k_FE'\n",
    "Normal_path = DATA_PATH / 'Normal'\n",
    "\n",
    "# DE_12 data set\n",
    "DE_12_df = get_df_all(DE_12_path, segment_length=500)\n",
    "features = DE_12_df.columns[2:]\n",
    "target = 'label'\n",
    "save_in_data_set_to_scv(DE_12_df,'Data/12k_DE.csv')\n",
    "\n",
    "# 12k_FE data set\n",
    "FE_df = get_df_all(FE_path, segment_length=500)\n",
    "\n",
    "save_in_data_set_to_scv(FE_df,'Data/12k_FE.csv')\n",
    "\n",
    "# noraml data set\n",
    "Normal_df = get_df_all(Normal_path, segment_length=500)\n",
    "\n",
    "save_in_data_set_to_scv(Normal_df,'Data/noraml.csv')\n",
    "\n",
    "\n",
    "# 48k_DE data set\n",
    "# DE_48_df = get_df_all(DE_48_path, segment_length=500)\n",
    "\n",
    "# save_in_data_set_to_scv(DE_48_df,'Data/48k_DE.csv')\n",
    "\n"
   ]
  },
  {
   "cell_type": "markdown",
   "metadata": {},
   "source": [
    "Save the created df"
   ]
  },
  {
   "cell_type": "markdown",
   "metadata": {},
   "source": [
    "Load data from csv file"
   ]
  },
  {
   "cell_type": "code",
   "execution_count": 17,
   "metadata": {},
   "outputs": [],
   "source": [
    "import pandas as pd\n",
    "\n",
    "data_set_path_file='Data/12k_FE.csv'\n",
    "# Read the DataFrame from the CSV file\n",
    "df_all = pd.read_csv(data_set_path_file)\n"
   ]
  },
  {
   "cell_type": "markdown",
   "metadata": {},
   "source": [
    "show sample of data set and its shap"
   ]
  },
  {
   "cell_type": "code",
   "execution_count": 18,
   "metadata": {},
   "outputs": [
    {
     "data": {
      "text/html": [
       "<div>\n",
       "<style scoped>\n",
       "    .dataframe tbody tr th:only-of-type {\n",
       "        vertical-align: middle;\n",
       "    }\n",
       "\n",
       "    .dataframe tbody tr th {\n",
       "        vertical-align: top;\n",
       "    }\n",
       "\n",
       "    .dataframe thead th {\n",
       "        text-align: right;\n",
       "    }\n",
       "</style>\n",
       "<table border=\"1\" class=\"dataframe\">\n",
       "  <thead>\n",
       "    <tr style=\"text-align: right;\">\n",
       "      <th></th>\n",
       "      <th>label</th>\n",
       "      <th>filename</th>\n",
       "      <th>0</th>\n",
       "      <th>1</th>\n",
       "      <th>2</th>\n",
       "      <th>3</th>\n",
       "      <th>4</th>\n",
       "      <th>5</th>\n",
       "      <th>6</th>\n",
       "      <th>7</th>\n",
       "      <th>...</th>\n",
       "      <th>490</th>\n",
       "      <th>491</th>\n",
       "      <th>492</th>\n",
       "      <th>493</th>\n",
       "      <th>494</th>\n",
       "      <th>495</th>\n",
       "      <th>496</th>\n",
       "      <th>497</th>\n",
       "      <th>498</th>\n",
       "      <th>499</th>\n",
       "    </tr>\n",
       "  </thead>\n",
       "  <tbody>\n",
       "    <tr>\n",
       "      <th>1996</th>\n",
       "      <td>1</td>\n",
       "      <td>B021_0.mat</td>\n",
       "      <td>-0.097136</td>\n",
       "      <td>-0.218150</td>\n",
       "      <td>0.133359</td>\n",
       "      <td>0.197684</td>\n",
       "      <td>-0.114354</td>\n",
       "      <td>-0.130923</td>\n",
       "      <td>0.192486</td>\n",
       "      <td>0.116141</td>\n",
       "      <td>...</td>\n",
       "      <td>0.085441</td>\n",
       "      <td>-0.174618</td>\n",
       "      <td>-0.057502</td>\n",
       "      <td>0.069197</td>\n",
       "      <td>-0.088527</td>\n",
       "      <td>-0.070984</td>\n",
       "      <td>0.087390</td>\n",
       "      <td>0.024853</td>\n",
       "      <td>-0.034761</td>\n",
       "      <td>0.104121</td>\n",
       "    </tr>\n",
       "    <tr>\n",
       "      <th>8903</th>\n",
       "      <td>0</td>\n",
       "      <td>Normal_1.mat</td>\n",
       "      <td>0.088870</td>\n",
       "      <td>0.024408</td>\n",
       "      <td>-0.018358</td>\n",
       "      <td>0.015646</td>\n",
       "      <td>0.090122</td>\n",
       "      <td>0.155418</td>\n",
       "      <td>0.174194</td>\n",
       "      <td>0.151246</td>\n",
       "      <td>...</td>\n",
       "      <td>0.039220</td>\n",
       "      <td>0.051945</td>\n",
       "      <td>0.045895</td>\n",
       "      <td>0.020444</td>\n",
       "      <td>0.011265</td>\n",
       "      <td>0.006258</td>\n",
       "      <td>-0.031292</td>\n",
       "      <td>-0.084281</td>\n",
       "      <td>-0.132262</td>\n",
       "      <td>-0.129342</td>\n",
       "    </tr>\n",
       "    <tr>\n",
       "      <th>14967</th>\n",
       "      <td>3</td>\n",
       "      <td>OR014@6_3.mat</td>\n",
       "      <td>0.118224</td>\n",
       "      <td>0.099305</td>\n",
       "      <td>-0.123867</td>\n",
       "      <td>-0.018391</td>\n",
       "      <td>0.098249</td>\n",
       "      <td>-0.105029</td>\n",
       "      <td>-0.066947</td>\n",
       "      <td>-0.030409</td>\n",
       "      <td>...</td>\n",
       "      <td>0.054808</td>\n",
       "      <td>-0.133651</td>\n",
       "      <td>-0.097681</td>\n",
       "      <td>0.138158</td>\n",
       "      <td>-0.094717</td>\n",
       "      <td>-0.142055</td>\n",
       "      <td>0.156143</td>\n",
       "      <td>0.040680</td>\n",
       "      <td>-0.054605</td>\n",
       "      <td>0.061264</td>\n",
       "    </tr>\n",
       "    <tr>\n",
       "      <th>2706</th>\n",
       "      <td>1</td>\n",
       "      <td>B021_3.mat</td>\n",
       "      <td>-0.053441</td>\n",
       "      <td>0.071959</td>\n",
       "      <td>0.085116</td>\n",
       "      <td>-0.023878</td>\n",
       "      <td>0.055066</td>\n",
       "      <td>0.018030</td>\n",
       "      <td>-0.064649</td>\n",
       "      <td>-0.185014</td>\n",
       "      <td>...</td>\n",
       "      <td>0.132872</td>\n",
       "      <td>-0.008934</td>\n",
       "      <td>-0.129623</td>\n",
       "      <td>-0.053766</td>\n",
       "      <td>0.000325</td>\n",
       "      <td>0.019492</td>\n",
       "      <td>0.074883</td>\n",
       "      <td>0.061563</td>\n",
       "      <td>-0.009259</td>\n",
       "      <td>0.013807</td>\n",
       "    </tr>\n",
       "    <tr>\n",
       "      <th>16950</th>\n",
       "      <td>3</td>\n",
       "      <td>OR021@3_3.mat</td>\n",
       "      <td>-0.030050</td>\n",
       "      <td>0.150090</td>\n",
       "      <td>0.004873</td>\n",
       "      <td>-0.084141</td>\n",
       "      <td>0.152527</td>\n",
       "      <td>0.119877</td>\n",
       "      <td>-0.128161</td>\n",
       "      <td>-0.018193</td>\n",
       "      <td>...</td>\n",
       "      <td>0.155938</td>\n",
       "      <td>0.225135</td>\n",
       "      <td>0.236993</td>\n",
       "      <td>0.331855</td>\n",
       "      <td>0.258272</td>\n",
       "      <td>0.075857</td>\n",
       "      <td>-0.069522</td>\n",
       "      <td>-0.319672</td>\n",
       "      <td>-0.280201</td>\n",
       "      <td>-0.194435</td>\n",
       "    </tr>\n",
       "  </tbody>\n",
       "</table>\n",
       "<p>5 rows × 502 columns</p>\n",
       "</div>"
      ],
      "text/plain": [
       "       label       filename         0         1         2         3         4  \\\n",
       "1996       1     B021_0.mat -0.097136 -0.218150  0.133359  0.197684 -0.114354   \n",
       "8903       0   Normal_1.mat  0.088870  0.024408 -0.018358  0.015646  0.090122   \n",
       "14967      3  OR014@6_3.mat  0.118224  0.099305 -0.123867 -0.018391  0.098249   \n",
       "2706       1     B021_3.mat -0.053441  0.071959  0.085116 -0.023878  0.055066   \n",
       "16950      3  OR021@3_3.mat -0.030050  0.150090  0.004873 -0.084141  0.152527   \n",
       "\n",
       "              5         6         7  ...       490       491       492  \\\n",
       "1996  -0.130923  0.192486  0.116141  ...  0.085441 -0.174618 -0.057502   \n",
       "8903   0.155418  0.174194  0.151246  ...  0.039220  0.051945  0.045895   \n",
       "14967 -0.105029 -0.066947 -0.030409  ...  0.054808 -0.133651 -0.097681   \n",
       "2706   0.018030 -0.064649 -0.185014  ...  0.132872 -0.008934 -0.129623   \n",
       "16950  0.119877 -0.128161 -0.018193  ...  0.155938  0.225135  0.236993   \n",
       "\n",
       "            493       494       495       496       497       498       499  \n",
       "1996   0.069197 -0.088527 -0.070984  0.087390  0.024853 -0.034761  0.104121  \n",
       "8903   0.020444  0.011265  0.006258 -0.031292 -0.084281 -0.132262 -0.129342  \n",
       "14967  0.138158 -0.094717 -0.142055  0.156143  0.040680 -0.054605  0.061264  \n",
       "2706  -0.053766  0.000325  0.019492  0.074883  0.061563 -0.009259  0.013807  \n",
       "16950  0.331855  0.258272  0.075857 -0.069522 -0.319672 -0.280201 -0.194435  \n",
       "\n",
       "[5 rows x 502 columns]"
      ]
     },
     "execution_count": 18,
     "metadata": {},
     "output_type": "execute_result"
    }
   ],
   "source": [
    "df_all.sample(5)\n"
   ]
  },
  {
   "cell_type": "code",
   "execution_count": 19,
   "metadata": {},
   "outputs": [
    {
     "data": {
      "text/plain": [
       "(17987, 502)"
      ]
     },
     "execution_count": 19,
     "metadata": {},
     "output_type": "execute_result"
    }
   ],
   "source": [
    "df_all.shape"
   ]
  },
  {
   "cell_type": "markdown",
   "metadata": {},
   "source": [
    "Installing timefm in colab"
   ]
  },
  {
   "cell_type": "code",
   "execution_count": 21,
   "metadata": {},
   "outputs": [
    {
     "name": "stdout",
     "output_type": "stream",
     "text": [
      "^C\n"
     ]
    },
    {
     "ename": "ModuleNotFoundError",
     "evalue": "No module named 'condacolab'",
     "output_type": "error",
     "traceback": [
      "\u001b[1;31m---------------------------------------------------------------------------\u001b[0m",
      "\u001b[1;31mModuleNotFoundError\u001b[0m                       Traceback (most recent call last)",
      "Cell \u001b[1;32mIn[21], line 2\u001b[0m\n\u001b[0;32m      1\u001b[0m get_ipython()\u001b[38;5;241m.\u001b[39msystem(\u001b[38;5;124m'\u001b[39m\u001b[38;5;124mpip install -q condacolab\u001b[39m\u001b[38;5;124m'\u001b[39m)\n\u001b[1;32m----> 2\u001b[0m \u001b[38;5;28;01mimport\u001b[39;00m \u001b[38;5;21;01mcondacolab\u001b[39;00m\n\u001b[0;32m      3\u001b[0m condacolab\u001b[38;5;241m.\u001b[39minstall()\n",
      "\u001b[1;31mModuleNotFoundError\u001b[0m: No module named 'condacolab'"
     ]
    },
    {
     "name": "stderr",
     "output_type": "stream",
     "text": [
      "\n",
      "[notice] A new release of pip is available: 24.0 -> 24.1\n",
      "[notice] To update, run: python.exe -m pip install --upgrade pip\n"
     ]
    }
   ],
   "source": [
    "!pip install -q condacolab\n",
    "import condacolab\n",
    "condacolab.install()\n",
    "\n",
    "!git clone https://github.com/google-research/timesfm.git\n",
    "%cd timesfm\n",
    "!conda env update -n base -f environment.yml\n",
    "\n",
    "!pip install -e .\n"
   ]
  },
  {
   "cell_type": "markdown",
   "metadata": {},
   "source": [
    "Splite the datat to test and also train"
   ]
  },
  {
   "cell_type": "code",
   "execution_count": null,
   "metadata": {},
   "outputs": [],
   "source": [
    "import timesfm\n"
   ]
  },
  {
   "cell_type": "code",
   "execution_count": 18,
   "metadata": {},
   "outputs": [],
   "source": [
    "# Split the data into train and validation set\n",
    "random_seed=45\n",
    "X_train, X_valid, y_train, y_valid = train_test_split(df_all[features], \n",
    "                                                      df_all[target], \n",
    "                                                      test_size=0.20, random_state=random_seed, shuffle=True\n",
    "                                                     )"
   ]
  },
  {
   "cell_type": "markdown",
   "metadata": {},
   "source": [
    "Install TimesFM "
   ]
  }
 ],
 "metadata": {
  "kernelspec": {
   "display_name": "Python 3",
   "language": "python",
   "name": "python3"
  },
  "language_info": {
   "codemirror_mode": {
    "name": "ipython",
    "version": 3
   },
   "file_extension": ".py",
   "mimetype": "text/x-python",
   "name": "python",
   "nbconvert_exporter": "python",
   "pygments_lexer": "ipython3",
   "version": "3.11.8"
  }
 },
 "nbformat": 4,
 "nbformat_minor": 2
}
